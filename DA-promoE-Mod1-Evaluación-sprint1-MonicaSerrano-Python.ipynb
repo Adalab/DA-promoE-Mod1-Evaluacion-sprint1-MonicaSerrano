{
 "cells": [
  {
   "attachments": {},
   "cell_type": "markdown",
   "metadata": {},
   "source": [
    "Dado el siguiente *string* \n",
    "\n",
    "```python\n",
    "\n",
    "string = \"\"\"Hoy estamos en una clase de repaso,\n",
    "el objetivo es intentar solucionar todas vuestras dudas, \n",
    "preguntad todo lo que queráis! \n",
    "\"\"\"\n",
    "1️⃣ Crea dos variables nuevas: \n",
    "    - Una con el *string* en mayúsculas\n",
    "    - Otra con las letras en minúsculas"
   ]
  },
  {
   "cell_type": "code",
   "execution_count": 17,
   "metadata": {},
   "outputs": [
    {
     "name": "stdout",
     "output_type": "stream",
     "text": [
      "HOY ESTAMOS EN UNA CLASE DE REPASO , EL OBJETIVO ES INTENTAR SOLUCIONAR TODAS VUESTRAS DUDAS , PREGUNTAD TODO LO QUE QUERÁIS!\n",
      "hoy estamos en una clase de repaso , el objetivo es intentar solucionar todas vuestras dudas , preguntad todo lo que queráis!\n"
     ]
    }
   ],
   "source": [
    "string = \"Hoy estamos en una clase de repaso , el objetivo es intentar solucionar todas vuestras dudas , preguntad todo lo que queráis!\"\n",
    "\n",
    "string_mayus = string.upper()\n",
    "print(string_mayus)\n",
    "\n",
    "string_minus = string.lower()\n",
    "print(string_minus)"
   ]
  },
  {
   "attachments": {},
   "cell_type": "markdown",
   "metadata": {},
   "source": [
    "2️⃣ Pon todas las primeras letras del *string* en mayúscula"
   ]
  },
  {
   "cell_type": "code",
   "execution_count": 18,
   "metadata": {},
   "outputs": [
    {
     "name": "stdout",
     "output_type": "stream",
     "text": [
      "Hoy Estamos En Una Clase De Repaso , El Objetivo Es Intentar Solucionar Todas Vuestras Dudas , Preguntad Todo Lo Que Queráis!\n"
     ]
    }
   ],
   "source": [
    "string_tit = string.title()\n",
    "print(string_tit)"
   ]
  },
  {
   "attachments": {},
   "cell_type": "markdown",
   "metadata": {},
   "source": [
    "3️⃣ Separa el *string*  por los espacios y almacena el resultado en una lista llamanda `texto_lista`"
   ]
  },
  {
   "cell_type": "code",
   "execution_count": 19,
   "metadata": {},
   "outputs": [
    {
     "name": "stdout",
     "output_type": "stream",
     "text": [
      "['Hoy', 'estamos', 'en', 'una', 'clase', 'de', 'repaso', ',', 'el', 'objetivo', 'es', 'intentar', 'solucionar', 'todas', 'vuestras', 'dudas', ',', 'preguntad', 'todo', 'lo', 'que', 'queráis!']\n"
     ]
    }
   ],
   "source": [
    "texto_lista = string.split(\" \")\n",
    "print(texto_lista)"
   ]
  },
  {
   "attachments": {},
   "cell_type": "markdown",
   "metadata": {},
   "source": [
    "4️⃣ De la lista obtenida en el ejercicio anterior, selecciona solo los 5 primero elementos y almacena los resultados en una variable que se llame `texto_lista_corta` "
   ]
  },
  {
   "cell_type": "code",
   "execution_count": 20,
   "metadata": {},
   "outputs": [
    {
     "name": "stdout",
     "output_type": "stream",
     "text": [
      "['Hoy', 'estamos', 'en', 'una', 'clase']\n"
     ]
    }
   ],
   "source": [
    "texto_lista_corta = []\n",
    "indice = 0\n",
    "while indice < 5:\n",
    "    texto_lista_corta.append(texto_lista[indice])\n",
    "    indice += 1\n",
    "print(texto_lista_corta)"
   ]
  },
  {
   "attachments": {},
   "cell_type": "markdown",
   "metadata": {},
   "source": [
    "Otra manera:"
   ]
  },
  {
   "cell_type": "code",
   "execution_count": 33,
   "metadata": {},
   "outputs": [
    {
     "name": "stdout",
     "output_type": "stream",
     "text": [
      "['Hoy', 'estamos', 'en', 'una', 'clase']\n"
     ]
    }
   ],
   "source": [
    "texto_lista_corta_2 = texto_lista[:5]\n",
    "print(texto_lista_corta_2)"
   ]
  },
  {
   "attachments": {},
   "cell_type": "markdown",
   "metadata": {},
   "source": [
    "5️⃣ De la lista obtenida en el ejercicio 5. Vuelve a convertirlo en *string* "
   ]
  },
  {
   "cell_type": "code",
   "execution_count": 21,
   "metadata": {},
   "outputs": [
    {
     "name": "stdout",
     "output_type": "stream",
     "text": [
      "Hoy estamos en una clase\n"
     ]
    }
   ],
   "source": [
    "texto_lista_corta = \" \".join(texto_lista_corta)\n",
    "print(texto_lista_corta)"
   ]
  },
  {
   "attachments": {},
   "cell_type": "markdown",
   "metadata": {},
   "source": [
    "6️⃣ Con el *string* obtenido en el paso anterior: \n",
    "\n",
    "    - Esta la palabra \"el\" en el *string* \n",
    "\n",
    "    - Reemplaza \"Hoy\" por nada\n",
    "\n",
    "    - El ejercicio anterior nos ha dejado espacios al inicio del string, eliminalos"
   ]
  },
  {
   "cell_type": "code",
   "execution_count": 25,
   "metadata": {},
   "outputs": [
    {
     "name": "stdout",
     "output_type": "stream",
     "text": [
      "False\n",
      "  estamos en una clase\n",
      "estamos en una clase\n"
     ]
    }
   ],
   "source": [
    "print(\"el\" in texto_lista_corta)\n",
    "\n",
    "texto_lista_corta = texto_lista_corta.replace(\"Hoy\", \" \")\n",
    "print(texto_lista_corta)\n",
    "\n",
    "texto_lista_corta = texto_lista_corta.strip()\n",
    "print(texto_lista_corta)"
   ]
  },
  {
   "attachments": {},
   "cell_type": "markdown",
   "metadata": {},
   "source": [
    "Tenemos una lista desordenada con números positivos de 1 a n. Siempre faltará un sólo número de esta lista aleatoria, ¿cómo identifico cuál falta? Cread un programa para que este código devuelva los resultados deseados:\n",
    "BONUS: Introduce los resultados obtenidos en un diccionario, indicando que numero falta para cada una de las listas:"
   ]
  },
  {
   "cell_type": "code",
   "execution_count": 7,
   "metadata": {},
   "outputs": [],
   "source": [
    "lista1 = [3,7,1,2,8,4,5]\n",
    "lista2 = [4,6,1,3,5] \n",
    "lista3 = [34,35,36,38,39,40]"
   ]
  },
  {
   "cell_type": "code",
   "execution_count": 8,
   "metadata": {},
   "outputs": [
    {
     "name": "stdout",
     "output_type": "stream",
     "text": [
      "Nos falta el número 6\n",
      "Nos falta el número 2\n",
      "Nos falta el número 37\n",
      "{'falta_lista_1': 6, 'falta_lista_2': 2, 'falta_lista_3': 37}\n"
     ]
    }
   ],
   "source": [
    "diccionario = {}\n",
    "\n",
    "for i in range(min(lista1),max(lista1)+1):\n",
    "    if i not in lista1:\n",
    "        print(\"Nos falta el número\", i)\n",
    "        diccionario.update({\"falta_lista_1\":i})\n",
    "\n",
    "for i in range(min(lista2),max(lista2)+1):\n",
    "    if i not in lista2:\n",
    "        print(\"Nos falta el número\", i)\n",
    "        diccionario[\"falta_lista_2\"]=i\n",
    "\n",
    "for i in range(min(lista3),max(lista3)+1):\n",
    "    if i not in lista3:\n",
    "        print(\"Nos falta el número\", i)\n",
    "        diccionario.update({\"falta_lista_3\":i})\n",
    "\n",
    "print(diccionario)\n"
   ]
  },
  {
   "attachments": {},
   "cell_type": "markdown",
   "metadata": {},
   "source": [
    "Nos dan un *string* con números aleatorios. Algunos de ellos son 0. Encuentra todos los ceros y ponlos al principio de la lista, manteniendo el orden de los demás números."
   ]
  },
  {
   "cell_type": "code",
   "execution_count": 9,
   "metadata": {},
   "outputs": [
    {
     "name": "stdout",
     "output_type": "stream",
     "text": [
      "[0, 0, 0, 1, 10, 88, 59, 63, 20]\n"
     ]
    }
   ],
   "source": [
    "A = [1,10,88,0,59,63,0,20,0]\n",
    "A_ord = []\n",
    "\n",
    "for i in A:\n",
    "    if i == 0:\n",
    "        A_ord.insert(0,i)\n",
    "    else:\n",
    "        A_ord.append(i)\n",
    "\n",
    "print(A_ord)"
   ]
  },
  {
   "attachments": {},
   "cell_type": "markdown",
   "metadata": {},
   "source": [
    "Nos dan una frase en que quieren que las letras de cada palabra acaben teniendo el orden invertido, manteniendo el orden de las palabras."
   ]
  },
  {
   "cell_type": "code",
   "execution_count": 12,
   "metadata": {},
   "outputs": [
    {
     "name": "stdout",
     "output_type": "stream",
     "text": [
      "aloH adA\n"
     ]
    }
   ],
   "source": [
    "frase = \"Hola Ada\"\n",
    "frase = [i[::-1] for i in frase.split()]\n",
    "frase = \" \".join(frase)\n",
    "print(frase)"
   ]
  },
  {
   "attachments": {},
   "cell_type": "markdown",
   "metadata": {},
   "source": [
    "Otra forma:"
   ]
  },
  {
   "cell_type": "code",
   "execution_count": 11,
   "metadata": {},
   "outputs": [
    {
     "name": "stdout",
     "output_type": "stream",
     "text": [
      "aloH adA\n"
     ]
    }
   ],
   "source": [
    "frase = \"Hola Ada\"\n",
    "frase = frase.split(\" \")\n",
    "\n",
    "lis_hola = list(frase[0])\n",
    "lis_hola.reverse()\n",
    "hola = \"\".join(lis_hola)\n",
    "\n",
    "lis_ada = list(frase[1])\n",
    "lis_ada.reverse()\n",
    "ada = \"\".join(lis_ada)\n",
    "\n",
    "frase = hola + \" \" + ada\n",
    "print(frase)"
   ]
  },
  {
   "attachments": {},
   "cell_type": "markdown",
   "metadata": {},
   "source": [
    "Los DNI españoles pueden ser:\n",
    "\n",
    "- NIF (Numero de Identificación Fiscal) - 8 numeros y una letra, o\n",
    "- NIE (Numero de Identificación de Extranjeros) - 1 letra, 7 numeros y 1 letra."
   ]
  },
  {
   "cell_type": "code",
   "execution_count": 11,
   "metadata": {},
   "outputs": [
    {
     "name": "stdout",
     "output_type": "stream",
     "text": [
      "X-1234567-Z válido\n",
      "X-1234567 no válido\n",
      "12345678-M válido\n",
      "1234567-T no válido\n",
      "12345677 no válido\n"
     ]
    }
   ],
   "source": [
    "lista_dni = [\"X-1234567-Z\", \"X-1234567\", \"12345678-M\", \"1234567-T\", \"12345677\"] \n",
    "\n",
    "for i in lista_dni:\n",
    "    dni = i.split(\"-\")\n",
    "\n",
    "    if len(i) == 11:\n",
    "        try:\n",
    "            int(dni[1])\n",
    "            if dni[0].upper() <= 'Z' and dni[2].upper() <= 'Z':\n",
    "                print(i, \"válido\")\n",
    "            else:\n",
    "                print(i, \"no válido\")\n",
    "        except:\n",
    "            print(i, \"no válido\")\n",
    "    elif len(i) == 10:  \n",
    "        try:\n",
    "            int(dni[0])\n",
    "            if dni[1].upper() <= 'Z':\n",
    "                print(i, \"válido\")\n",
    "            else:\n",
    "                print(i, \"no válido\")\n",
    "        except:\n",
    "            print(i, \"no válido\")\n",
    "    else:\n",
    "        print(i, \"no válido\")"
   ]
  },
  {
   "attachments": {},
   "cell_type": "markdown",
   "metadata": {},
   "source": [
    "Haz una programa que compare los contenidos de una lista a un número dado X. Queremos que nos devuelva los k números que son más parecidos al número dado."
   ]
  },
  {
   "cell_type": "code",
   "execution_count": 12,
   "metadata": {},
   "outputs": [
    {
     "name": "stdout",
     "output_type": "stream",
     "text": [
      "[26, 19, 43]\n"
     ]
    }
   ],
   "source": [
    "diccionario = {}\n",
    "L = [4, 19, -5, 100, 53, 43, 74, -83, 13.5, 26]\n",
    "X = int(input(\"Escribe un número\"))\n",
    "k = int(input(\"Números parecidos\"))\n",
    "\n",
    "for i in L:\n",
    "    distancia = X - i\n",
    "    if distancia < 0:\n",
    "        distancia = distancia * -1\n",
    "    diccionario.update({distancia:i})\n",
    "\n",
    "keys_diccionario = sorted(diccionario)\n",
    "lista_ordenada = []\n",
    "\n",
    "\n",
    "for i in range(0, k):\n",
    "    lista_ordenada.append(diccionario.get(keys_diccionario[i]))\n",
    "    \n",
    "print(lista_ordenada)"
   ]
  }
 ],
 "metadata": {
  "kernelspec": {
   "display_name": "base",
   "language": "python",
   "name": "python3"
  },
  "language_info": {
   "codemirror_mode": {
    "name": "ipython",
    "version": 3
   },
   "file_extension": ".py",
   "mimetype": "text/x-python",
   "name": "python",
   "nbconvert_exporter": "python",
   "pygments_lexer": "ipython3",
   "version": "3.9.7"
  },
  "orig_nbformat": 4
 },
 "nbformat": 4,
 "nbformat_minor": 2
}
